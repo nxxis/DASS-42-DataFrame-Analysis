{
 "cells": [
  {
   "cell_type": "markdown",
   "id": "c694f674",
   "metadata": {},
   "source": [
    "## Library Import"
   ]
  },
  {
   "cell_type": "code",
   "execution_count": 1,
   "id": "43635020",
   "metadata": {},
   "outputs": [],
   "source": [
    "import numpy as np\n",
    "import pandas as pd\n",
    "import seaborn as sns\n",
    "import matplotlib.pyplot as plt"
   ]
  },
  {
   "cell_type": "markdown",
   "id": "5c809824",
   "metadata": {},
   "source": [
    "### Reading NEPSE DATAFRAME"
   ]
  },
  {
   "cell_type": "code",
   "execution_count": 2,
   "id": "fc230c21",
   "metadata": {},
   "outputs": [],
   "source": [
    "df = pd.read_csv(\"/home/nxxer/Project Learn/Source/NEPSE/NEPSE.csv\")"
   ]
  },
  {
   "cell_type": "code",
   "execution_count": 3,
   "id": "ffe94988",
   "metadata": {},
   "outputs": [
    {
     "data": {
      "text/html": [
       "<div>\n",
       "<style scoped>\n",
       "    .dataframe tbody tr th:only-of-type {\n",
       "        vertical-align: middle;\n",
       "    }\n",
       "\n",
       "    .dataframe tbody tr th {\n",
       "        vertical-align: top;\n",
       "    }\n",
       "\n",
       "    .dataframe thead th {\n",
       "        text-align: right;\n",
       "    }\n",
       "</style>\n",
       "<table border=\"1\" class=\"dataframe\">\n",
       "  <thead>\n",
       "    <tr style=\"text-align: right;\">\n",
       "      <th></th>\n",
       "      <th>S.no</th>\n",
       "      <th>Symbol</th>\n",
       "      <th>Date</th>\n",
       "      <th>Open</th>\n",
       "      <th>High</th>\n",
       "      <th>Low</th>\n",
       "      <th>Close</th>\n",
       "      <th>Vol</th>\n",
       "    </tr>\n",
       "  </thead>\n",
       "  <tbody>\n",
       "    <tr>\n",
       "      <th>0</th>\n",
       "      <td>0</td>\n",
       "      <td>ACEDBL</td>\n",
       "      <td>2012-01-01.csv</td>\n",
       "      <td>114.0</td>\n",
       "      <td>113.0</td>\n",
       "      <td>112.0</td>\n",
       "      <td>113.0</td>\n",
       "      <td>1,962</td>\n",
       "    </tr>\n",
       "    <tr>\n",
       "      <th>1</th>\n",
       "      <td>1</td>\n",
       "      <td>ACEDPO</td>\n",
       "      <td>2012-01-01.csv</td>\n",
       "      <td>188.0</td>\n",
       "      <td>114.0</td>\n",
       "      <td>114.0</td>\n",
       "      <td>114.0</td>\n",
       "      <td>10,000</td>\n",
       "    </tr>\n",
       "    <tr>\n",
       "      <th>2</th>\n",
       "      <td>2</td>\n",
       "      <td>ADBL</td>\n",
       "      <td>2012-01-01.csv</td>\n",
       "      <td>115.0</td>\n",
       "      <td>115.0</td>\n",
       "      <td>113.0</td>\n",
       "      <td>114.0</td>\n",
       "      <td>1,111</td>\n",
       "    </tr>\n",
       "    <tr>\n",
       "      <th>3</th>\n",
       "      <td>3</td>\n",
       "      <td>AHPC</td>\n",
       "      <td>2012-01-01.csv</td>\n",
       "      <td>319.0</td>\n",
       "      <td>319.0</td>\n",
       "      <td>312.0</td>\n",
       "      <td>312.0</td>\n",
       "      <td>377</td>\n",
       "    </tr>\n",
       "    <tr>\n",
       "      <th>4</th>\n",
       "      <td>4</td>\n",
       "      <td>ALDBL</td>\n",
       "      <td>2012-01-01.csv</td>\n",
       "      <td>102.0</td>\n",
       "      <td>101.0</td>\n",
       "      <td>101.0</td>\n",
       "      <td>101.0</td>\n",
       "      <td>30</td>\n",
       "    </tr>\n",
       "  </tbody>\n",
       "</table>\n",
       "</div>"
      ],
      "text/plain": [
       "   S.no  Symbol            Date   Open   High    Low  Close     Vol\n",
       "0     0  ACEDBL  2012-01-01.csv  114.0  113.0  112.0  113.0   1,962\n",
       "1     1  ACEDPO  2012-01-01.csv  188.0  114.0  114.0  114.0  10,000\n",
       "2     2    ADBL  2012-01-01.csv  115.0  115.0  113.0  114.0   1,111\n",
       "3     3    AHPC  2012-01-01.csv  319.0  319.0  312.0  312.0     377\n",
       "4     4   ALDBL  2012-01-01.csv  102.0  101.0  101.0  101.0      30"
      ]
     },
     "execution_count": 3,
     "metadata": {},
     "output_type": "execute_result"
    }
   ],
   "source": [
    "df.head()"
   ]
  },
  {
   "cell_type": "markdown",
   "id": "fcafdf53",
   "metadata": {},
   "source": [
    "### Selecting NABIL Bank Row"
   ]
  },
  {
   "cell_type": "code",
   "execution_count": 4,
   "id": "ed68945f",
   "metadata": {},
   "outputs": [],
   "source": [
    "df1 = df.loc[df['Symbol'] == 'NABIL']"
   ]
  },
  {
   "cell_type": "code",
   "execution_count": 5,
   "id": "b79ac20c",
   "metadata": {},
   "outputs": [
    {
     "data": {
      "text/html": [
       "<div>\n",
       "<style scoped>\n",
       "    .dataframe tbody tr th:only-of-type {\n",
       "        vertical-align: middle;\n",
       "    }\n",
       "\n",
       "    .dataframe tbody tr th {\n",
       "        vertical-align: top;\n",
       "    }\n",
       "\n",
       "    .dataframe thead th {\n",
       "        text-align: right;\n",
       "    }\n",
       "</style>\n",
       "<table border=\"1\" class=\"dataframe\">\n",
       "  <thead>\n",
       "    <tr style=\"text-align: right;\">\n",
       "      <th></th>\n",
       "      <th>S.no</th>\n",
       "      <th>Symbol</th>\n",
       "      <th>Date</th>\n",
       "      <th>Open</th>\n",
       "      <th>High</th>\n",
       "      <th>Low</th>\n",
       "      <th>Close</th>\n",
       "      <th>Vol</th>\n",
       "    </tr>\n",
       "  </thead>\n",
       "  <tbody>\n",
       "    <tr>\n",
       "      <th>44</th>\n",
       "      <td>44</td>\n",
       "      <td>NABIL</td>\n",
       "      <td>2012-01-01.csv</td>\n",
       "      <td>873.0</td>\n",
       "      <td>879.0</td>\n",
       "      <td>851.0</td>\n",
       "      <td>879.0</td>\n",
       "      <td>799</td>\n",
       "    </tr>\n",
       "    <tr>\n",
       "      <th>115</th>\n",
       "      <td>37</td>\n",
       "      <td>NABIL</td>\n",
       "      <td>2012-01-02.csv</td>\n",
       "      <td>879.0</td>\n",
       "      <td>913.0</td>\n",
       "      <td>882.0</td>\n",
       "      <td>900.0</td>\n",
       "      <td>1,002</td>\n",
       "    </tr>\n",
       "    <tr>\n",
       "      <th>192</th>\n",
       "      <td>41</td>\n",
       "      <td>NABIL</td>\n",
       "      <td>2012-01-03.csv</td>\n",
       "      <td>900.0</td>\n",
       "      <td>916.0</td>\n",
       "      <td>892.0</td>\n",
       "      <td>892.0</td>\n",
       "      <td>2,653</td>\n",
       "    </tr>\n",
       "    <tr>\n",
       "      <th>271</th>\n",
       "      <td>41</td>\n",
       "      <td>NABIL</td>\n",
       "      <td>2012-01-04.csv</td>\n",
       "      <td>892.0</td>\n",
       "      <td>875.0</td>\n",
       "      <td>842.0</td>\n",
       "      <td>865.0</td>\n",
       "      <td>490</td>\n",
       "    </tr>\n",
       "    <tr>\n",
       "      <th>338</th>\n",
       "      <td>33</td>\n",
       "      <td>NABIL</td>\n",
       "      <td>2012-01-05.csv</td>\n",
       "      <td>865.0</td>\n",
       "      <td>875.0</td>\n",
       "      <td>858.0</td>\n",
       "      <td>858.0</td>\n",
       "      <td>121</td>\n",
       "    </tr>\n",
       "  </tbody>\n",
       "</table>\n",
       "</div>"
      ],
      "text/plain": [
       "     S.no Symbol            Date   Open   High    Low  Close    Vol\n",
       "44     44  NABIL  2012-01-01.csv  873.0  879.0  851.0  879.0    799\n",
       "115    37  NABIL  2012-01-02.csv  879.0  913.0  882.0  900.0  1,002\n",
       "192    41  NABIL  2012-01-03.csv  900.0  916.0  892.0  892.0  2,653\n",
       "271    41  NABIL  2012-01-04.csv  892.0  875.0  842.0  865.0    490\n",
       "338    33  NABIL  2012-01-05.csv  865.0  875.0  858.0  858.0    121"
      ]
     },
     "execution_count": 5,
     "metadata": {},
     "output_type": "execute_result"
    }
   ],
   "source": [
    "df1.head()"
   ]
  },
  {
   "cell_type": "markdown",
   "id": "9fe88b63",
   "metadata": {},
   "source": [
    "### Removing .csv from date"
   ]
  },
  {
   "cell_type": "code",
   "execution_count": 6,
   "id": "c44adb0d",
   "metadata": {},
   "outputs": [
    {
     "name": "stderr",
     "output_type": "stream",
     "text": [
      "/tmp/ipykernel_7675/323440152.py:1: FutureWarning: The default value of regex will change from True to False in a future version.\n",
      "  df1['Date'] = df['Date'].str.replace('.csv', '')\n",
      "/tmp/ipykernel_7675/323440152.py:1: SettingWithCopyWarning: \n",
      "A value is trying to be set on a copy of a slice from a DataFrame.\n",
      "Try using .loc[row_indexer,col_indexer] = value instead\n",
      "\n",
      "See the caveats in the documentation: https://pandas.pydata.org/pandas-docs/stable/user_guide/indexing.html#returning-a-view-versus-a-copy\n",
      "  df1['Date'] = df['Date'].str.replace('.csv', '')\n"
     ]
    }
   ],
   "source": [
    "df1['Date'] = df['Date'].str.replace('.csv', '')"
   ]
  },
  {
   "cell_type": "code",
   "execution_count": 7,
   "id": "db6ea2ab",
   "metadata": {},
   "outputs": [
    {
     "data": {
      "text/html": [
       "<div>\n",
       "<style scoped>\n",
       "    .dataframe tbody tr th:only-of-type {\n",
       "        vertical-align: middle;\n",
       "    }\n",
       "\n",
       "    .dataframe tbody tr th {\n",
       "        vertical-align: top;\n",
       "    }\n",
       "\n",
       "    .dataframe thead th {\n",
       "        text-align: right;\n",
       "    }\n",
       "</style>\n",
       "<table border=\"1\" class=\"dataframe\">\n",
       "  <thead>\n",
       "    <tr style=\"text-align: right;\">\n",
       "      <th></th>\n",
       "      <th>S.no</th>\n",
       "      <th>Symbol</th>\n",
       "      <th>Date</th>\n",
       "      <th>Open</th>\n",
       "      <th>High</th>\n",
       "      <th>Low</th>\n",
       "      <th>Close</th>\n",
       "      <th>Vol</th>\n",
       "    </tr>\n",
       "  </thead>\n",
       "  <tbody>\n",
       "    <tr>\n",
       "      <th>44</th>\n",
       "      <td>44</td>\n",
       "      <td>NABIL</td>\n",
       "      <td>2012-01-01</td>\n",
       "      <td>873.0</td>\n",
       "      <td>879.0</td>\n",
       "      <td>851.0</td>\n",
       "      <td>879.0</td>\n",
       "      <td>799</td>\n",
       "    </tr>\n",
       "    <tr>\n",
       "      <th>115</th>\n",
       "      <td>37</td>\n",
       "      <td>NABIL</td>\n",
       "      <td>2012-01-02</td>\n",
       "      <td>879.0</td>\n",
       "      <td>913.0</td>\n",
       "      <td>882.0</td>\n",
       "      <td>900.0</td>\n",
       "      <td>1,002</td>\n",
       "    </tr>\n",
       "    <tr>\n",
       "      <th>192</th>\n",
       "      <td>41</td>\n",
       "      <td>NABIL</td>\n",
       "      <td>2012-01-03</td>\n",
       "      <td>900.0</td>\n",
       "      <td>916.0</td>\n",
       "      <td>892.0</td>\n",
       "      <td>892.0</td>\n",
       "      <td>2,653</td>\n",
       "    </tr>\n",
       "    <tr>\n",
       "      <th>271</th>\n",
       "      <td>41</td>\n",
       "      <td>NABIL</td>\n",
       "      <td>2012-01-04</td>\n",
       "      <td>892.0</td>\n",
       "      <td>875.0</td>\n",
       "      <td>842.0</td>\n",
       "      <td>865.0</td>\n",
       "      <td>490</td>\n",
       "    </tr>\n",
       "    <tr>\n",
       "      <th>338</th>\n",
       "      <td>33</td>\n",
       "      <td>NABIL</td>\n",
       "      <td>2012-01-05</td>\n",
       "      <td>865.0</td>\n",
       "      <td>875.0</td>\n",
       "      <td>858.0</td>\n",
       "      <td>858.0</td>\n",
       "      <td>121</td>\n",
       "    </tr>\n",
       "  </tbody>\n",
       "</table>\n",
       "</div>"
      ],
      "text/plain": [
       "     S.no Symbol        Date   Open   High    Low  Close    Vol\n",
       "44     44  NABIL  2012-01-01  873.0  879.0  851.0  879.0    799\n",
       "115    37  NABIL  2012-01-02  879.0  913.0  882.0  900.0  1,002\n",
       "192    41  NABIL  2012-01-03  900.0  916.0  892.0  892.0  2,653\n",
       "271    41  NABIL  2012-01-04  892.0  875.0  842.0  865.0    490\n",
       "338    33  NABIL  2012-01-05  865.0  875.0  858.0  858.0    121"
      ]
     },
     "execution_count": 7,
     "metadata": {},
     "output_type": "execute_result"
    }
   ],
   "source": [
    "df1.head()"
   ]
  },
  {
   "cell_type": "code",
   "execution_count": 8,
   "id": "60d57841",
   "metadata": {},
   "outputs": [],
   "source": [
    "unwanted=['S.no','Symbol']\n",
    "df1 = df1.drop(unwanted, axis = 1,)"
   ]
  },
  {
   "cell_type": "code",
   "execution_count": 9,
   "id": "988299bb",
   "metadata": {
    "scrolled": true
   },
   "outputs": [
    {
     "data": {
      "text/html": [
       "<div>\n",
       "<style scoped>\n",
       "    .dataframe tbody tr th:only-of-type {\n",
       "        vertical-align: middle;\n",
       "    }\n",
       "\n",
       "    .dataframe tbody tr th {\n",
       "        vertical-align: top;\n",
       "    }\n",
       "\n",
       "    .dataframe thead th {\n",
       "        text-align: right;\n",
       "    }\n",
       "</style>\n",
       "<table border=\"1\" class=\"dataframe\">\n",
       "  <thead>\n",
       "    <tr style=\"text-align: right;\">\n",
       "      <th></th>\n",
       "      <th>Date</th>\n",
       "      <th>Open</th>\n",
       "      <th>High</th>\n",
       "      <th>Low</th>\n",
       "      <th>Close</th>\n",
       "      <th>Vol</th>\n",
       "    </tr>\n",
       "  </thead>\n",
       "  <tbody>\n",
       "    <tr>\n",
       "      <th>44</th>\n",
       "      <td>2012-01-01</td>\n",
       "      <td>873.0</td>\n",
       "      <td>879.0</td>\n",
       "      <td>851.0</td>\n",
       "      <td>879.0</td>\n",
       "      <td>799</td>\n",
       "    </tr>\n",
       "    <tr>\n",
       "      <th>115</th>\n",
       "      <td>2012-01-02</td>\n",
       "      <td>879.0</td>\n",
       "      <td>913.0</td>\n",
       "      <td>882.0</td>\n",
       "      <td>900.0</td>\n",
       "      <td>1,002</td>\n",
       "    </tr>\n",
       "    <tr>\n",
       "      <th>192</th>\n",
       "      <td>2012-01-03</td>\n",
       "      <td>900.0</td>\n",
       "      <td>916.0</td>\n",
       "      <td>892.0</td>\n",
       "      <td>892.0</td>\n",
       "      <td>2,653</td>\n",
       "    </tr>\n",
       "    <tr>\n",
       "      <th>271</th>\n",
       "      <td>2012-01-04</td>\n",
       "      <td>892.0</td>\n",
       "      <td>875.0</td>\n",
       "      <td>842.0</td>\n",
       "      <td>865.0</td>\n",
       "      <td>490</td>\n",
       "    </tr>\n",
       "    <tr>\n",
       "      <th>338</th>\n",
       "      <td>2012-01-05</td>\n",
       "      <td>865.0</td>\n",
       "      <td>875.0</td>\n",
       "      <td>858.0</td>\n",
       "      <td>858.0</td>\n",
       "      <td>121</td>\n",
       "    </tr>\n",
       "  </tbody>\n",
       "</table>\n",
       "</div>"
      ],
      "text/plain": [
       "           Date   Open   High    Low  Close    Vol\n",
       "44   2012-01-01  873.0  879.0  851.0  879.0    799\n",
       "115  2012-01-02  879.0  913.0  882.0  900.0  1,002\n",
       "192  2012-01-03  900.0  916.0  892.0  892.0  2,653\n",
       "271  2012-01-04  892.0  875.0  842.0  865.0    490\n",
       "338  2012-01-05  865.0  875.0  858.0  858.0    121"
      ]
     },
     "execution_count": 9,
     "metadata": {},
     "output_type": "execute_result"
    }
   ],
   "source": [
    "df1.head()"
   ]
  },
  {
   "cell_type": "code",
   "execution_count": 10,
   "id": "73e46aa7",
   "metadata": {},
   "outputs": [
    {
     "data": {
      "text/plain": [
       "(1910, 6)"
      ]
     },
     "execution_count": 10,
     "metadata": {},
     "output_type": "execute_result"
    }
   ],
   "source": [
    "df1.shape"
   ]
  },
  {
   "cell_type": "code",
   "execution_count": 11,
   "id": "01dd288a",
   "metadata": {},
   "outputs": [
    {
     "data": {
      "text/html": [
       "<div>\n",
       "<style scoped>\n",
       "    .dataframe tbody tr th:only-of-type {\n",
       "        vertical-align: middle;\n",
       "    }\n",
       "\n",
       "    .dataframe tbody tr th {\n",
       "        vertical-align: top;\n",
       "    }\n",
       "\n",
       "    .dataframe thead th {\n",
       "        text-align: right;\n",
       "    }\n",
       "</style>\n",
       "<table border=\"1\" class=\"dataframe\">\n",
       "  <thead>\n",
       "    <tr style=\"text-align: right;\">\n",
       "      <th></th>\n",
       "      <th>Open</th>\n",
       "      <th>High</th>\n",
       "      <th>Low</th>\n",
       "      <th>Close</th>\n",
       "    </tr>\n",
       "  </thead>\n",
       "  <tbody>\n",
       "    <tr>\n",
       "      <th>count</th>\n",
       "      <td>1910.000000</td>\n",
       "      <td>1910.000000</td>\n",
       "      <td>1910.000000</td>\n",
       "      <td>1910.000000</td>\n",
       "    </tr>\n",
       "    <tr>\n",
       "      <th>mean</th>\n",
       "      <td>1538.958115</td>\n",
       "      <td>1555.184817</td>\n",
       "      <td>1522.249215</td>\n",
       "      <td>1539.656021</td>\n",
       "    </tr>\n",
       "    <tr>\n",
       "      <th>std</th>\n",
       "      <td>559.777683</td>\n",
       "      <td>568.388348</td>\n",
       "      <td>554.175755</td>\n",
       "      <td>561.606581</td>\n",
       "    </tr>\n",
       "    <tr>\n",
       "      <th>min</th>\n",
       "      <td>662.000000</td>\n",
       "      <td>669.000000</td>\n",
       "      <td>660.000000</td>\n",
       "      <td>667.000000</td>\n",
       "    </tr>\n",
       "    <tr>\n",
       "      <th>25%</th>\n",
       "      <td>955.000000</td>\n",
       "      <td>960.000000</td>\n",
       "      <td>944.000000</td>\n",
       "      <td>952.250000</td>\n",
       "    </tr>\n",
       "    <tr>\n",
       "      <th>50%</th>\n",
       "      <td>1570.000000</td>\n",
       "      <td>1585.000000</td>\n",
       "      <td>1550.000000</td>\n",
       "      <td>1572.000000</td>\n",
       "    </tr>\n",
       "    <tr>\n",
       "      <th>75%</th>\n",
       "      <td>1940.000000</td>\n",
       "      <td>1960.000000</td>\n",
       "      <td>1916.000000</td>\n",
       "      <td>1941.500000</td>\n",
       "    </tr>\n",
       "    <tr>\n",
       "      <th>max</th>\n",
       "      <td>2720.000000</td>\n",
       "      <td>2800.000000</td>\n",
       "      <td>2700.000000</td>\n",
       "      <td>2750.000000</td>\n",
       "    </tr>\n",
       "  </tbody>\n",
       "</table>\n",
       "</div>"
      ],
      "text/plain": [
       "              Open         High          Low        Close\n",
       "count  1910.000000  1910.000000  1910.000000  1910.000000\n",
       "mean   1538.958115  1555.184817  1522.249215  1539.656021\n",
       "std     559.777683   568.388348   554.175755   561.606581\n",
       "min     662.000000   669.000000   660.000000   667.000000\n",
       "25%     955.000000   960.000000   944.000000   952.250000\n",
       "50%    1570.000000  1585.000000  1550.000000  1572.000000\n",
       "75%    1940.000000  1960.000000  1916.000000  1941.500000\n",
       "max    2720.000000  2800.000000  2700.000000  2750.000000"
      ]
     },
     "execution_count": 11,
     "metadata": {},
     "output_type": "execute_result"
    }
   ],
   "source": [
    "df1.describe()"
   ]
  },
  {
   "cell_type": "markdown",
   "id": "2bc70c17",
   "metadata": {},
   "source": [
    "### Checking Null Values"
   ]
  },
  {
   "cell_type": "code",
   "execution_count": 12,
   "id": "23fbb7a6",
   "metadata": {},
   "outputs": [
    {
     "data": {
      "text/plain": [
       "Date     0\n",
       "Open     0\n",
       "High     0\n",
       "Low      0\n",
       "Close    0\n",
       "Vol      0\n",
       "dtype: int64"
      ]
     },
     "execution_count": 12,
     "metadata": {},
     "output_type": "execute_result"
    }
   ],
   "source": [
    "df1.isnull().sum()"
   ]
  },
  {
   "cell_type": "code",
   "execution_count": 15,
   "id": "b03e9860",
   "metadata": {},
   "outputs": [
    {
     "data": {
      "text/plain": [
       "10        3048\n",
       "100       2533\n",
       "20        2302\n",
       "50        1851\n",
       "200       1683\n",
       "          ... \n",
       "19,305       1\n",
       "73,178       1\n",
       "84,584       1\n",
       "43,846       1\n",
       "33,352       1\n",
       "Name: Vol, Length: 36351, dtype: int64"
      ]
     },
     "execution_count": 15,
     "metadata": {},
     "output_type": "execute_result"
    }
   ],
   "source": [
    "df['Vol'].value_counts()"
   ]
  },
  {
   "cell_type": "code",
   "execution_count": null,
   "id": "21ca4ad8",
   "metadata": {},
   "outputs": [
    {
     "data": {
      "text/plain": [
       "<AxesSubplot:xlabel='Vol', ylabel='count'>"
      ]
     },
     "execution_count": 16,
     "metadata": {},
     "output_type": "execute_result"
    }
   ],
   "source": [
    "plt.figure(figsize=(40, 15))\n",
    "sns.countplot(x=df['Vol'])"
   ]
  },
  {
   "cell_type": "code",
   "execution_count": 13,
   "id": "8c6f1f1a",
   "metadata": {},
   "outputs": [
    {
     "name": "stdout",
     "output_type": "stream",
     "text": [
      "<class 'pandas.core.frame.DataFrame'>\n",
      "Int64Index: 1910 entries, 44 to 250836\n",
      "Data columns (total 6 columns):\n",
      " #   Column  Non-Null Count  Dtype  \n",
      "---  ------  --------------  -----  \n",
      " 0   Date    1910 non-null   object \n",
      " 1   Open    1910 non-null   float64\n",
      " 2   High    1910 non-null   float64\n",
      " 3   Low     1910 non-null   float64\n",
      " 4   Close   1910 non-null   float64\n",
      " 5   Vol     1910 non-null   object \n",
      "dtypes: float64(4), object(2)\n",
      "memory usage: 104.5+ KB\n"
     ]
    }
   ],
   "source": [
    "df1.info()"
   ]
  },
  {
   "cell_type": "code",
   "execution_count": 14,
   "id": "bf56e5bf",
   "metadata": {},
   "outputs": [
    {
     "data": {
      "image/png": "[encoded data removed]",
      "text/plain": [
       "<Figure size 1152x576 with 1 Axes>"
      ]
     },
     "metadata": {
      "needs_background": "light"
     },
     "output_type": "display_data"
    }
   ],
   "source": [
    "plt.figure(figsize=(16,8))\n",
    "plt.title('NABIL')\n",
    "plt.xlabel('Days')\n",
    "plt.ylabel('Opening Price (Rs.)')\n",
    "plt.plot(df1['Open'])\n",
    "plt.show()"
   ]
  },
  {
   "cell_type": "code",
   "execution_count": null,
   "id": "770be770",
   "metadata": {},
   "outputs": [],
   "source": []
  }
 ],
 "metadata": {
  "kernelspec": {
   "display_name": "Python 3 (ipykernel)",
   "language": "python",
   "name": "python3"
  },
  "language_info": {
   "codemirror_mode": {
    "name": "ipython",
    "version": 3
   },
   "file_extension": ".py",
   "mimetype": "text/x-python",
   "name": "python",
   "nbconvert_exporter": "python",
   "pygments_lexer": "ipython3",
   "version": "3.9.7"
  }
 },
 "nbformat": 4,
 "nbformat_minor": 5
}
